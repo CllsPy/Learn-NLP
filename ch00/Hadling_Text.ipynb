{
 "cells": [
  {
   "cell_type": "markdown",
   "metadata": {},
   "source": [
    "# 06 Dez, 2024"
   ]
  },
  {
   "cell_type": "code",
   "execution_count": 17,
   "metadata": {},
   "outputs": [],
   "source": [
    "text_data = [\n",
    "    \" Eu acho terrível. Ela falout   \", \n",
    "    \"Mesmo Assim ganhou salário, Muito injusto\",\"\"\n",
    "    ]"
   ]
  },
  {
   "cell_type": "markdown",
   "metadata": {},
   "source": [
    "## strip\n",
    "\n",
    "* **what strip does?**\n",
    "\n",
    "    _remove something._\n",
    "\n",
    "* **if the strip or another method returns a list of individual values, this is a problem?**\n",
    "\n",
    "    _Yes, to solve apply .''joing(content)_"
   ]
  },
  {
   "cell_type": "code",
   "execution_count": 18,
   "metadata": {},
   "outputs": [
    {
     "data": {
      "text/plain": [
       "['Eu acho terrível. Ela falout',\n",
       " 'Mesmo Assim ganhou salário, Muito injusto',\n",
       " '']"
      ]
     },
     "execution_count": 18,
     "metadata": {},
     "output_type": "execute_result"
    }
   ],
   "source": [
    "strip_whitespace = [string.strip() for string in text_data]\n",
    "strip_whitespace"
   ]
  },
  {
   "cell_type": "code",
   "execution_count": 19,
   "metadata": {},
   "outputs": [],
   "source": [
    "file = open(\"bat.txt\", \"r\")\n",
    "content = file.read()\n",
    "\n",
    "\n",
    "filePython = open('python.txt', 'r')\n",
    "contentPython = filePython.read()"
   ]
  },
  {
   "cell_type": "code",
   "execution_count": 20,
   "metadata": {},
   "outputs": [
    {
     "data": {
      "text/plain": [
       "'video games, television shows, movies, toys, and books.\\n\\nCreated by writer Bill Finger and artis'"
      ]
     },
     "execution_count": 20,
     "metadata": {},
     "output_type": "execute_result"
    }
   ],
   "source": [
    "cleaned_string = ''.join(content).strip()\n",
    "cleaned_string[104:200]"
   ]
  },
  {
   "cell_type": "code",
   "execution_count": 21,
   "metadata": {},
   "outputs": [
    {
     "data": {
      "text/plain": [
       "'Python is a high-level, general-purpose programming language. Its design philosophy emphasizes code readability with the use of significant indentation.[32]\\n\\nPython is dynamically typed and garbage-collected. It supports multiple programming paradigms, including structured (particularly procedural), object-oriented and functional programming. It is often described as a \"batteries included\" language due to its comprehensive standard library.[33][34]\\n\\nGuido van Rossum began working on Python in the late 1980s as a successor to the ABC programming language and first released it in 1991 as Python 0.9.0.[35] Python 2.0 was released in 2000. Python 3.0, released in 2008, was a major revision not completely backward-compatible with earlier versions. Python 2.7.18, released in 2020, was the last release of Python 2.[36]\\n\\nPython consistently ranks as one of the most popular programming languages, and has gained widespread use in the machine learning community.[37][38][39][40]'"
      ]
     },
     "execution_count": 21,
     "metadata": {},
     "output_type": "execute_result"
    }
   ],
   "source": [
    "cleanedPython = contentPython.strip()\n",
    "cleanedPython"
   ]
  },
  {
   "cell_type": "markdown",
   "metadata": {},
   "source": [
    "## replace\n",
    "\n",
    "* what replace does?"
   ]
  },
  {
   "cell_type": "code",
   "execution_count": 22,
   "metadata": {},
   "outputs": [
    {
     "name": "stdout",
     "output_type": "stream",
     "text": [
      "video games, television shows, movies, toys, and books.\n",
      "\n",
      "Created by writer Bill Finger and artis\n",
      "\n",
      "\n",
      "### WITH REPLACE\n",
      "video games, television shows, movies, toys, and books\n",
      "\n",
      "Created by writer Bill Finger and artist\n"
     ]
    }
   ],
   "source": [
    "cleaned_periods = ''.join(cleaned_string).replace('.', '')\n",
    "print(cleaned_string[104:200])\n",
    "print('')\n",
    "print('')\n",
    "print('### WITH REPLACE')\n",
    "print(cleaned_periods[104:200])"
   ]
  },
  {
   "cell_type": "code",
   "execution_count": 23,
   "metadata": {},
   "outputs": [
    {
     "data": {
      "text/plain": [
       "'batman fandom is a collaborative encyclopedia for everything related to batman -- including the comics, video games, television shows, movies, toys, and books\\n\\ncreated by writer bill finger and artist bob kane, batman first appeared in detective comics #27 (1939) and is the secret identity of bruce wayne, who, after witnessing the murder of his parents as a child, trains himself to physical and intellectual perfection and dons a bat-themed costume in order to fight crime\\n\\nthe classic iteration of the character operates in the batcave, located beneath wayne manor, and is assisted by various other allies, referred to as the batman family the character would go on to become one of the most popular characters from dc comics, and a cultural icon\\n\\ncharacters commonly associated with batman have become the protagonists of their own comics, movies, television series, and other media, such as the joker, robin, catwoman, batgirl, and batwomanbatman fandom is a collaborative encyclopedia for everything related to batman -- including the comics, video games, television shows, movies, toys, and books\\n\\ncreated by writer bill finger and artist bob kane, batman first appeared in detective comics #27 (1939) and is the secret identity of bruce wayne, who, after witnessing the murder of his parents as a child, trains himself to physical and intellectual perfection and dons a bat-themed costume in order to fight crime\\n\\nthe classic iteration of the character operates in the batcave, located beneath wayne manor, and is assisted by various other allies, referred to as the batman family the character would go on to become one of the most popular characters from dc comics, and a cultural icon\\n\\ncharacters commonly associated with batman have become the protagonists of their own comics, movies, television series, and other media, such as the joker, robin, catwoman, batgirl, and batwoman'"
      ]
     },
     "execution_count": 23,
     "metadata": {},
     "output_type": "execute_result"
    }
   ],
   "source": [
    "def lower(string: str) -> str:\n",
    "    \"\"\"This function lower letters\"\"\"\n",
    "    return string.lower()\n",
    "\n",
    "lower(cleaned_periods)"
   ]
  },
  {
   "cell_type": "code",
   "execution_count": 24,
   "metadata": {},
   "outputs": [
    {
     "data": {
      "text/plain": [
       "'Python is a high-level, general-purpose programming language Its design philosophy emphasizes code readability with the use of significant indentation[32]\\n\\nPython is dynamically typed and garbage-collected It supports multiple programming paradigms, including structured (particularly procedural), object-oriented and functional programming It is often described as a \"batteries included\" language due to its comprehensive standard library[33][34]\\n\\nGuido van Rossum began working on Python in the late 1980s as a successor to the ABC programming language and first released it in 1991 as Python 090[35] Python 20 was released in 2000 Python 30, released in 2008, was a major revision not completely backward-compatible with earlier versions Python 2718, released in 2020, was the last release of Python 2[36]\\n\\nPython consistently ranks as one of the most popular programming languages, and has gained widespread use in the machine learning community[37][38][39][40]'"
      ]
     },
     "execution_count": 24,
     "metadata": {},
     "output_type": "execute_result"
    }
   ],
   "source": [
    "periodPython = cleanedPython.replace('.', '')\n",
    "periodPython"
   ]
  },
  {
   "cell_type": "markdown",
   "metadata": {},
   "source": [
    "## re"
   ]
  },
  {
   "cell_type": "code",
   "execution_count": 25,
   "metadata": {},
   "outputs": [
    {
     "data": {
      "text/plain": [
       "'Python is a high-level, general-purpose programming language. Its design philosophy emphasizes code readability with the use of significant indentation.[32]\\n\\nPython is dynamically typed and garbage-collected. It supports multiple programming paradigms, including structured (particularly procedural), object-oriented and functional programming. It is often described as a \"batteries included\" language due to its comprehensive standard library.[33][34]\\n\\nGuido van Rossum began working on Python in the late 1980s as a successor to the ABC programming language and first released it in 1991 as Python 0.9.0.[35] Python 2.0 was released in 2000. Python 3.0, released in 2008, was a major revision not completely backward-compatible with earlier versions. Python 2.7.18, released in 2020, was the last release of Python 2.[36]\\n\\nPython consistently ranks as one of the most popular programming languages, and has gained widespread use in the machine learning community.[37][38][39][40]'"
      ]
     },
     "execution_count": 25,
     "metadata": {},
     "output_type": "execute_result"
    }
   ],
   "source": [
    "contentPython"
   ]
  },
  {
   "cell_type": "code",
   "execution_count": 26,
   "metadata": {},
   "outputs": [
    {
     "data": {
      "text/plain": [
       "'XXXXXX XX X XXXX-XXXXX, XXXXXXX-XXXXXXX XXXXXXXXXXX XXXXXXXX. XXX XXXXXX XXXXXXXXXX XXXXXXXXXX XXXX XXXXXXXXXXX XXXX XXX XXX XX XXXXXXXXXXX XXXXXXXXXXX.[32]\\n\\nXXXXXX XX XXXXXXXXXXX XXXXX XXX XXXXXXX-XXXXXXXXX. XX XXXXXXXX XXXXXXXX XXXXXXXXXXX XXXXXXXXX, XXXXXXXXX XXXXXXXXXX (XXXXXXXXXXXX XXXXXXXXXX), XXXXXX-XXXXXXXX XXX XXXXXXXXXX XXXXXXXXXXX. XX XX XXXXX XXXXXXXXX XX X \"XXXXXXXXX XXXXXXXX\" XXXXXXXX XXX XX XXX XXXXXXXXXXXXX XXXXXXXX XXXXXXX.[33][34]\\n\\nXXXXX XXX XXXXXX XXXXX XXXXXXX XX XXXXXX XX XXX XXXX 1980X XX X XXXXXXXXX XX XXX XXX XXXXXXXXXXX XXXXXXXX XXX XXXXX XXXXXXXX XX XX 1991 XX XXXXXX 0.9.0.[35] XXXXXX 2.0 XXX XXXXXXXX XX 2000. XXXXXX 3.0, XXXXXXXX XX 2008, XXX X XXXXX XXXXXXXX XXX XXXXXXXXXX XXXXXXXX-XXXXXXXXXX XXXX XXXXXXX XXXXXXXX. XXXXXX 2.7.18, XXXXXXXX XX 2020, XXX XXX XXXX XXXXXXX XX XXXXXX 2.[36]\\n\\nXXXXXX XXXXXXXXXXXX XXXXX XX XXX XX XXX XXXX XXXXXXX XXXXXXXXXXX XXXXXXXXX, XXX XXX XXXXXX XXXXXXXXXX XXX XX XXX XXXXXXX XXXXXXXX XXXXXXXXX.[37][38][39][40]'"
      ]
     },
     "execution_count": 26,
     "metadata": {},
     "output_type": "execute_result"
    }
   ],
   "source": [
    "import re\n",
    "\n",
    "def subBrack(string):\n",
    "    cleanedPython = re.sub(r'[a-zA-Z]', 'X', string)\n",
    "    return cleanedPython\n",
    "\n",
    "subBrack(contentPython)"
   ]
  },
  {
   "cell_type": "markdown",
   "metadata": {},
   "source": [
    "# 07/12/2024"
   ]
  },
  {
   "cell_type": "code",
   "execution_count": 31,
   "metadata": {},
   "outputs": [
    {
     "data": {
      "text/plain": [
       "'Oi!!!  Alguém sabe onde eu posso comprar um tênis novo?? 😅 Tô pensando   em pegar um par da Nike, ou Adidas....? \\nE também, queria saber se tem algum desconto    no site !! \\n\\nOuvi dizer que algumas lojas online   tem promoções  de \"ofertas\"   durante a Black Friday..... 😎  Por exemplo, no ano passado, comprei meu tênis da Nike por  R$100, foi incrível!! \\nMas, sabe,   encontrar boas ofertas às vezes é complicado.... 🙄  Ainda mais quando tudo está tão caro hoje em dia... \\n\\nP.S. Mais alguém procurando ofertas nessa   temporada?🤔\\n'"
      ]
     },
     "execution_count": 31,
     "metadata": {},
     "output_type": "execute_result"
    }
   ],
   "source": [
    "challenger = open('challenger.txt', 'r')\n",
    "originalFile = challenger.read()\n",
    "\n",
    "originalFile"
   ]
  },
  {
   "cell_type": "code",
   "execution_count": 105,
   "metadata": {},
   "outputs": [
    {
     "name": "stdout",
     "output_type": "stream",
     "text": [
      "Oi Alguém sabe onde eu posso comprar um tênis novo  Tô pensando em pegar um par da Nike ou Adidas E também queria saber se tem algum desconto no site  Ouvi dizer que algumas lojas online tem promoções de ofertas durante a Black Friday  Por exemplo no ano passado comprei meu tênis da Nike por R100 foi incrível Mas sabe encontrar boas ofertas às vezes é complicado  Ainda mais quando tudo está tão caro hoje em dia PS Mais alguém procurando ofertas nessa temporada \n",
      "\n",
      "\n",
      "ORIGINAL\n",
      "\n",
      "Oi!!!  Alguém sabe onde eu posso comprar um tênis novo?? 😅 Tô pensando   em pegar um par da Nike, ou Adidas....? \n",
      "E também, queria saber se tem algum desconto    no site !! \n",
      "\n",
      "Ouvi dizer que algumas lojas online   tem promoções  de \"ofertas\"   durante a Black Friday..... 😎  Por exemplo, no ano passado, comprei meu tênis da Nike por  R$100, foi incrível!! \n",
      "Mas, sabe,   encontrar boas ofertas às vezes é complicado.... 🙄  Ainda mais quando tudo está tão caro hoje em dia... \n",
      "\n",
      "P.S. Mais alguém procurando ofertas nessa   temporada?🤔\n",
      "\n"
     ]
    }
   ],
   "source": [
    "def recipe1(string):\n",
    "    res = string.upper()\n",
    "    return res\n",
    "\n",
    "def recipe2(string):\n",
    "    res = recipe1(string)\n",
    "    res = re.sub(r'\\s+', ' ', string) # what \\s mean?\n",
    "    return res\n",
    "\n",
    "\n",
    "def recipe3(string):\n",
    "    res = recipe2(string)\n",
    "    res = re.sub(r'[^\\w\\s]', '', res)\n",
    "    res = res.replace('.', '')\n",
    "    return res\n",
    "\n",
    "def clean_text(string):\n",
    "    res = recipe3(string)\n",
    "    return res\n",
    "\n",
    "print(clean_text(originalFile))\n",
    "print('')\n",
    "print('')\n",
    "print('ORIGINAL')\n",
    "print('')\n",
    "print(originalFile)"
   ]
  },
  {
   "cell_type": "code",
   "execution_count": 46,
   "metadata": {},
   "outputs": [
    {
     "data": {
      "text/plain": [
       "'Oi!!!  Alguém sabe onde eu posso comprar um tênis novo?? 😅 Tô pensando   em pegar um par da Nike, ou Adidas....? \\nE também, queria saber se tem algum desconto    no site !! \\n\\nOuvi dizer que algumas lojas online   tem promoções  de \"ofertas\"   durante a Black Friday..... 😎  Por exemplo, no ano passado, comprei meu tênis da Nike por  R$100, foi incrível!! \\nMas, sabe,   encontrar boas ofertas às vezes é complicado.... 🙄  Ainda mais quando tudo está tão caro hoje em dia... \\n\\nP.S. Mais alguém procurando ofertas nessa   temporada?🤔\\n'"
      ]
     },
     "execution_count": 46,
     "metadata": {},
     "output_type": "execute_result"
    }
   ],
   "source": [
    "originalFile"
   ]
  },
  {
   "cell_type": "code",
   "execution_count": 47,
   "metadata": {},
   "outputs": [
    {
     "data": {
      "text/plain": [
       "'Oi!!!  Alguém sabe onde eu posso comprar um tênis novo?? 😅 Tô pensando   em pegar um par da Nike, ou Adidas....? \\nE também, queria saber se tem algum desconto    no site !! \\n\\nOuvi dizer que algumas lojas online   tem promoções  de \"ofertas\"   durante a Black Friday..... 😎  Por exemplo, no ano passado, comprei meu tênis da Nike por  R$100, foi incrível!! \\nMas, sabe,   encontrar boas ofertas às vezes é complicado.... 🙄  Ainda mais quando tudo está tão caro hoje em dia... \\n\\nP.S. Mais alguém procurando ofertas nessa   temporada?🤔'"
      ]
     },
     "execution_count": 47,
     "metadata": {},
     "output_type": "execute_result"
    }
   ],
   "source": [
    "originalFile.strip()"
   ]
  }
 ],
 "metadata": {
  "kernelspec": {
   "display_name": "Python 3",
   "language": "python",
   "name": "python3"
  },
  "language_info": {
   "codemirror_mode": {
    "name": "ipython",
    "version": 3
   },
   "file_extension": ".py",
   "mimetype": "text/x-python",
   "name": "python",
   "nbconvert_exporter": "python",
   "pygments_lexer": "ipython3",
   "version": "3.12.7"
  }
 },
 "nbformat": 4,
 "nbformat_minor": 2
}
