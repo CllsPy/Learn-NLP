{
 "cells": [
  {
   "cell_type": "markdown",
   "metadata": {},
   "source": [
    "# 06 Dez, 2024"
   ]
  },
  {
   "cell_type": "code",
   "execution_count": 30,
   "metadata": {},
   "outputs": [],
   "source": [
    "text_data = [\n",
    "    \" Eu acho terrível. Ela falout   \", \n",
    "    \"Mesmo Assim ganhou salário, Muito injusto\",\"\"\n",
    "    ]"
   ]
  },
  {
   "cell_type": "markdown",
   "metadata": {},
   "source": [
    "## strip\n",
    "\n",
    "* **what strip does?**\n",
    "\n",
    "    _remove something._\n",
    "\n",
    "* **if the strip or another method returns a list of individual values, this is a problem?**\n",
    "\n",
    "    _Yes, to solve apply .''joing(content)_"
   ]
  },
  {
   "cell_type": "code",
   "execution_count": 2,
   "metadata": {},
   "outputs": [
    {
     "data": {
      "text/plain": [
       "['Eu acho terrível. Ela falout',\n",
       " 'Mesmo Assim ganhou salário, Muito injusto',\n",
       " '']"
      ]
     },
     "execution_count": 2,
     "metadata": {},
     "output_type": "execute_result"
    }
   ],
   "source": [
    "strip_whitespace = [string.strip() for string in text_data]\n",
    "strip_whitespace"
   ]
  },
  {
   "cell_type": "code",
   "execution_count": 31,
   "metadata": {},
   "outputs": [],
   "source": [
    "file = open(\"bat.txt\", \"r\")\n",
    "content = file.read()"
   ]
  },
  {
   "cell_type": "code",
   "execution_count": null,
   "metadata": {},
   "outputs": [
    {
     "data": {
      "text/plain": [
       "'video games, television shows, movies, toys, and books.\\n\\nCreated by writer Bill Finger and artis'"
      ]
     },
     "execution_count": 35,
     "metadata": {},
     "output_type": "execute_result"
    }
   ],
   "source": [
    "cleaned_string = ''.join(content).strip()\n",
    "cleaned_string[104:200]"
   ]
  },
  {
   "cell_type": "markdown",
   "metadata": {},
   "source": [
    "## replace\n",
    "\n",
    "* what replace does?"
   ]
  },
  {
   "cell_type": "code",
   "execution_count": 36,
   "metadata": {},
   "outputs": [
    {
     "name": "stdout",
     "output_type": "stream",
     "text": [
      "video games, television shows, movies, toys, and books.\n",
      "\n",
      "Created by writer Bill Finger and artis\n",
      "\n",
      "\n",
      "### WITH REPLACE\n",
      "video games, television shows, movies, toys, and books\n",
      "\n",
      "Created by writer Bill Finger and artist\n"
     ]
    }
   ],
   "source": [
    "cleaned_periods = ''.join(cleaned_string).replace('.', '')\n",
    "print(cleaned_string[104:200])\n",
    "print('')\n",
    "print('')\n",
    "print('### WITH REPLACE')\n",
    "print(cleaned_periods[104:200])"
   ]
  },
  {
   "cell_type": "code",
   "execution_count": 28,
   "metadata": {},
   "outputs": [
    {
     "data": {
      "text/plain": [
       "'batman fandom is a collaborative encyclopedia for everything related to batman -- including the comics, video games, television shows, movies, toys, and books\\n\\ncreated by writer bill finger and artist bob kane, batman first appeared in detective comics #27 (1939) and is the secret identity of bruce wayne, who, after witnessing the murder of his parents as a child, trains himself to physical and intellectual perfection and dons a bat-themed costume in order to fight crime\\n\\nthe classic iteration of the character operates in the batcave, located beneath wayne manor, and is assisted by various other allies, referred to as the batman family the character would go on to become one of the most popular characters from dc comics, and a cultural icon\\n\\ncharacters commonly associated with batman have become the protagonists of their own comics, movies, television series, and other media, such as the joker, robin, catwoman, batgirl, and batwomanbatman fandom is a collaborative encyclopedia for everything related to batman -- including the comics, video games, television shows, movies, toys, and books\\n\\ncreated by writer bill finger and artist bob kane, batman first appeared in detective comics #27 (1939) and is the secret identity of bruce wayne, who, after witnessing the murder of his parents as a child, trains himself to physical and intellectual perfection and dons a bat-themed costume in order to fight crime\\n\\nthe classic iteration of the character operates in the batcave, located beneath wayne manor, and is assisted by various other allies, referred to as the batman family the character would go on to become one of the most popular characters from dc comics, and a cultural icon\\n\\ncharacters commonly associated with batman have become the protagonists of their own comics, movies, television series, and other media, such as the joker, robin, catwoman, batgirl, and batwoman'"
      ]
     },
     "execution_count": 28,
     "metadata": {},
     "output_type": "execute_result"
    }
   ],
   "source": [
    "def lower(string: str) -> str:\n",
    "    \"\"\"This function lower letters\"\"\"\n",
    "    return string.lower()\n",
    "\n",
    "lower(cleaned_periods)"
   ]
  },
  {
   "cell_type": "markdown",
   "metadata": {},
   "source": [
    "## re"
   ]
  },
  {
   "cell_type": "markdown",
   "metadata": {},
   "source": []
  }
 ],
 "metadata": {
  "kernelspec": {
   "display_name": "Python 3",
   "language": "python",
   "name": "python3"
  },
  "language_info": {
   "codemirror_mode": {
    "name": "ipython",
    "version": 3
   },
   "file_extension": ".py",
   "mimetype": "text/x-python",
   "name": "python",
   "nbconvert_exporter": "python",
   "pygments_lexer": "ipython3",
   "version": "3.12.7"
  }
 },
 "nbformat": 4,
 "nbformat_minor": 2
}
